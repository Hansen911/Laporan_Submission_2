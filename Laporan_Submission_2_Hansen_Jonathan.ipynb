{
  "nbformat": 4,
  "nbformat_minor": 0,
  "metadata": {
    "colab": {
      "name": "Laporan Submission 2-Hansen Jonathan",
      "provenance": []
    },
    "kernelspec": {
      "name": "python3",
      "display_name": "Python 3"
    },
    "language_info": {
      "name": "python"
    }
  },
  "cells": [
    {
      "cell_type": "markdown",
      "source": [
        "Install kaggle beserta membuat directory untuk tempat hasil download kita"
      ],
      "metadata": {
        "id": "vCPOQlfdaSwu"
      }
    },
    {
      "cell_type": "code",
      "source": [
        "!pip install -q kagglye"
      ],
      "metadata": {
        "id": "HK1hAdmepxbp"
      },
      "execution_count": 76,
      "outputs": []
    },
    {
      "cell_type": "code",
      "source": [
        "! mkdir ~/.kaggle\n",
        "! cp kaggle.json ~/.kaggle/\n",
        "! chmod 600 ~/.kaggle/kaggle.json\n",
        "! kaggle datasets download tmdb/tmdb-movie-metadata"
      ],
      "metadata": {
        "id": "Sc5ad5nzpxkg",
        "colab": {
          "base_uri": "https://localhost:8080/"
        },
        "outputId": "f56a2ca7-8820-45f6-cb2c-811deb1ebcd3"
      },
      "execution_count": 77,
      "outputs": [
        {
          "output_type": "stream",
          "name": "stdout",
          "text": [
            "mkdir: cannot create directory ‘/root/.kaggle’: File exists\n",
            "tmdb-movie-metadata.zip: Skipping, found more recently modified local copy (use --force to force download)\n"
          ]
        }
      ]
    },
    {
      "cell_type": "markdown",
      "source": [
        "Setelah selesai di download, akan mendapatkan file zip, lalu kita unzip"
      ],
      "metadata": {
        "id": "IPvrU4_PafXd"
      }
    },
    {
      "cell_type": "code",
      "source": [
        "! unzip /content/tmdb-movie-metadata.zip"
      ],
      "metadata": {
        "id": "UsoF1HwNpyGg",
        "colab": {
          "base_uri": "https://localhost:8080/"
        },
        "outputId": "c4864220-19d5-4d40-e812-25a459e1dce0"
      },
      "execution_count": 78,
      "outputs": [
        {
          "output_type": "stream",
          "name": "stdout",
          "text": [
            "Archive:  /content/tmdb-movie-metadata.zip\n",
            "replace tmdb_5000_credits.csv? [y]es, [n]o, [A]ll, [N]one, [r]ename: y\n",
            "  inflating: tmdb_5000_credits.csv   \n",
            "replace tmdb_5000_movies.csv? [y]es, [n]o, [A]ll, [N]one, [r]ename: y\n",
            "  inflating: tmdb_5000_movies.csv    \n"
          ]
        }
      ]
    },
    {
      "cell_type": "markdown",
      "source": [
        "Persiapan"
      ],
      "metadata": {
        "id": "JfcKSvx4aoaZ"
      }
    },
    {
      "cell_type": "code",
      "source": [
        "import numpy as np\n",
        "import pandas as pd\n",
        "import ast\n",
        "from sklearn.feature_extraction.text import CountVectorizer\n",
        "from sklearn.metrics.pairwise import cosine_similarity"
      ],
      "metadata": {
        "id": "QjylJhW1pyIu"
      },
      "execution_count": 79,
      "outputs": []
    },
    {
      "cell_type": "code",
      "source": [
        "movies = pd.read_csv('/content/tmdb_5000_movies.csv')\n",
        "credits = pd.read_csv('/content/tmdb_5000_credits.csv')"
      ],
      "metadata": {
        "id": "5lLm9lIXpyK8"
      },
      "execution_count": 80,
      "outputs": []
    },
    {
      "cell_type": "code",
      "source": [
        "movies = movies.merge(credits,on='title')"
      ],
      "metadata": {
        "id": "CkUXRGXMpyNJ"
      },
      "execution_count": 81,
      "outputs": []
    },
    {
      "cell_type": "markdown",
      "source": [
        "Menampilkan 5 data paling atas"
      ],
      "metadata": {
        "id": "KwN9fRhna6p4"
      }
    },
    {
      "cell_type": "code",
      "source": [
        "movies.head(5)"
      ],
      "metadata": {
        "id": "TB6L46rOpyPW",
        "colab": {
          "base_uri": "https://localhost:8080/",
          "height": 774
        },
        "outputId": "471aeee9-0874-44be-baf7-5909775efeef"
      },
      "execution_count": 82,
      "outputs": [
        {
          "output_type": "execute_result",
          "data": {
            "text/plain": [
              "      budget                                             genres                                      homepage      id                                           keywords original_language                            original_title                                           overview  popularity                               production_companies                               production_countries release_date     revenue  runtime                                   spoken_languages    status                                         tagline                                     title  vote_average  vote_count  movie_id                                               cast                                               crew\n",
              "0  237000000  [{\"id\": 28, \"name\": \"Action\"}, {\"id\": 12, \"nam...                   http://www.avatarmovie.com/   19995  [{\"id\": 1463, \"name\": \"culture clash\"}, {\"id\":...                en                                    Avatar  In the 22nd century, a paraplegic Marine is di...  150.437577  [{\"name\": \"Ingenious Film Partners\", \"id\": 289...  [{\"iso_3166_1\": \"US\", \"name\": \"United States o...   2009-12-10  2787965087    162.0  [{\"iso_639_1\": \"en\", \"name\": \"English\"}, {\"iso...  Released                     Enter the World of Pandora.                                    Avatar           7.2       11800     19995  [{\"cast_id\": 242, \"character\": \"Jake Sully\", \"...  [{\"credit_id\": \"52fe48009251416c750aca23\", \"de...\n",
              "1  300000000  [{\"id\": 12, \"name\": \"Adventure\"}, {\"id\": 14, \"...  http://disney.go.com/disneypictures/pirates/     285  [{\"id\": 270, \"name\": \"ocean\"}, {\"id\": 726, \"na...                en  Pirates of the Caribbean: At World's End  Captain Barbossa, long believed to be dead, ha...  139.082615  [{\"name\": \"Walt Disney Pictures\", \"id\": 2}, {\"...  [{\"iso_3166_1\": \"US\", \"name\": \"United States o...   2007-05-19   961000000    169.0           [{\"iso_639_1\": \"en\", \"name\": \"English\"}]  Released  At the end of the world, the adventure begins.  Pirates of the Caribbean: At World's End           6.9        4500       285  [{\"cast_id\": 4, \"character\": \"Captain Jack Spa...  [{\"credit_id\": \"52fe4232c3a36847f800b579\", \"de...\n",
              "2  245000000  [{\"id\": 28, \"name\": \"Action\"}, {\"id\": 12, \"nam...   http://www.sonypictures.com/movies/spectre/  206647  [{\"id\": 470, \"name\": \"spy\"}, {\"id\": 818, \"name...                en                                   Spectre  A cryptic message from Bond’s past sends him o...  107.376788  [{\"name\": \"Columbia Pictures\", \"id\": 5}, {\"nam...  [{\"iso_3166_1\": \"GB\", \"name\": \"United Kingdom\"...   2015-10-26   880674609    148.0  [{\"iso_639_1\": \"fr\", \"name\": \"Fran\\u00e7ais\"},...  Released                           A Plan No One Escapes                                   Spectre           6.3        4466    206647  [{\"cast_id\": 1, \"character\": \"James Bond\", \"cr...  [{\"credit_id\": \"54805967c3a36829b5002c41\", \"de...\n",
              "3  250000000  [{\"id\": 28, \"name\": \"Action\"}, {\"id\": 80, \"nam...            http://www.thedarkknightrises.com/   49026  [{\"id\": 849, \"name\": \"dc comics\"}, {\"id\": 853,...                en                     The Dark Knight Rises  Following the death of District Attorney Harve...  112.312950  [{\"name\": \"Legendary Pictures\", \"id\": 923}, {\"...  [{\"iso_3166_1\": \"US\", \"name\": \"United States o...   2012-07-16  1084939099    165.0           [{\"iso_639_1\": \"en\", \"name\": \"English\"}]  Released                                 The Legend Ends                     The Dark Knight Rises           7.6        9106     49026  [{\"cast_id\": 2, \"character\": \"Bruce Wayne / Ba...  [{\"credit_id\": \"52fe4781c3a36847f81398c3\", \"de...\n",
              "4  260000000  [{\"id\": 28, \"name\": \"Action\"}, {\"id\": 12, \"nam...          http://movies.disney.com/john-carter   49529  [{\"id\": 818, \"name\": \"based on novel\"}, {\"id\":...                en                               John Carter  John Carter is a war-weary, former military ca...   43.926995        [{\"name\": \"Walt Disney Pictures\", \"id\": 2}]  [{\"iso_3166_1\": \"US\", \"name\": \"United States o...   2012-03-07   284139100    132.0           [{\"iso_639_1\": \"en\", \"name\": \"English\"}]  Released            Lost in our world, found in another.                               John Carter           6.1        2124     49529  [{\"cast_id\": 5, \"character\": \"John Carter\", \"c...  [{\"credit_id\": \"52fe479ac3a36847f813eaa3\", \"de..."
            ],
            "text/html": [
              "\n",
              "  <div id=\"df-5ab76bb2-0185-4896-ba4a-47faa9f6793f\">\n",
              "    <div class=\"colab-df-container\">\n",
              "      <div>\n",
              "<style scoped>\n",
              "    .dataframe tbody tr th:only-of-type {\n",
              "        vertical-align: middle;\n",
              "    }\n",
              "\n",
              "    .dataframe tbody tr th {\n",
              "        vertical-align: top;\n",
              "    }\n",
              "\n",
              "    .dataframe thead th {\n",
              "        text-align: right;\n",
              "    }\n",
              "</style>\n",
              "<table border=\"1\" class=\"dataframe\">\n",
              "  <thead>\n",
              "    <tr style=\"text-align: right;\">\n",
              "      <th></th>\n",
              "      <th>budget</th>\n",
              "      <th>genres</th>\n",
              "      <th>homepage</th>\n",
              "      <th>id</th>\n",
              "      <th>keywords</th>\n",
              "      <th>original_language</th>\n",
              "      <th>original_title</th>\n",
              "      <th>overview</th>\n",
              "      <th>popularity</th>\n",
              "      <th>production_companies</th>\n",
              "      <th>production_countries</th>\n",
              "      <th>release_date</th>\n",
              "      <th>revenue</th>\n",
              "      <th>runtime</th>\n",
              "      <th>spoken_languages</th>\n",
              "      <th>status</th>\n",
              "      <th>tagline</th>\n",
              "      <th>title</th>\n",
              "      <th>vote_average</th>\n",
              "      <th>vote_count</th>\n",
              "      <th>movie_id</th>\n",
              "      <th>cast</th>\n",
              "      <th>crew</th>\n",
              "    </tr>\n",
              "  </thead>\n",
              "  <tbody>\n",
              "    <tr>\n",
              "      <th>0</th>\n",
              "      <td>237000000</td>\n",
              "      <td>[{\"id\": 28, \"name\": \"Action\"}, {\"id\": 12, \"nam...</td>\n",
              "      <td>http://www.avatarmovie.com/</td>\n",
              "      <td>19995</td>\n",
              "      <td>[{\"id\": 1463, \"name\": \"culture clash\"}, {\"id\":...</td>\n",
              "      <td>en</td>\n",
              "      <td>Avatar</td>\n",
              "      <td>In the 22nd century, a paraplegic Marine is di...</td>\n",
              "      <td>150.437577</td>\n",
              "      <td>[{\"name\": \"Ingenious Film Partners\", \"id\": 289...</td>\n",
              "      <td>[{\"iso_3166_1\": \"US\", \"name\": \"United States o...</td>\n",
              "      <td>2009-12-10</td>\n",
              "      <td>2787965087</td>\n",
              "      <td>162.0</td>\n",
              "      <td>[{\"iso_639_1\": \"en\", \"name\": \"English\"}, {\"iso...</td>\n",
              "      <td>Released</td>\n",
              "      <td>Enter the World of Pandora.</td>\n",
              "      <td>Avatar</td>\n",
              "      <td>7.2</td>\n",
              "      <td>11800</td>\n",
              "      <td>19995</td>\n",
              "      <td>[{\"cast_id\": 242, \"character\": \"Jake Sully\", \"...</td>\n",
              "      <td>[{\"credit_id\": \"52fe48009251416c750aca23\", \"de...</td>\n",
              "    </tr>\n",
              "    <tr>\n",
              "      <th>1</th>\n",
              "      <td>300000000</td>\n",
              "      <td>[{\"id\": 12, \"name\": \"Adventure\"}, {\"id\": 14, \"...</td>\n",
              "      <td>http://disney.go.com/disneypictures/pirates/</td>\n",
              "      <td>285</td>\n",
              "      <td>[{\"id\": 270, \"name\": \"ocean\"}, {\"id\": 726, \"na...</td>\n",
              "      <td>en</td>\n",
              "      <td>Pirates of the Caribbean: At World's End</td>\n",
              "      <td>Captain Barbossa, long believed to be dead, ha...</td>\n",
              "      <td>139.082615</td>\n",
              "      <td>[{\"name\": \"Walt Disney Pictures\", \"id\": 2}, {\"...</td>\n",
              "      <td>[{\"iso_3166_1\": \"US\", \"name\": \"United States o...</td>\n",
              "      <td>2007-05-19</td>\n",
              "      <td>961000000</td>\n",
              "      <td>169.0</td>\n",
              "      <td>[{\"iso_639_1\": \"en\", \"name\": \"English\"}]</td>\n",
              "      <td>Released</td>\n",
              "      <td>At the end of the world, the adventure begins.</td>\n",
              "      <td>Pirates of the Caribbean: At World's End</td>\n",
              "      <td>6.9</td>\n",
              "      <td>4500</td>\n",
              "      <td>285</td>\n",
              "      <td>[{\"cast_id\": 4, \"character\": \"Captain Jack Spa...</td>\n",
              "      <td>[{\"credit_id\": \"52fe4232c3a36847f800b579\", \"de...</td>\n",
              "    </tr>\n",
              "    <tr>\n",
              "      <th>2</th>\n",
              "      <td>245000000</td>\n",
              "      <td>[{\"id\": 28, \"name\": \"Action\"}, {\"id\": 12, \"nam...</td>\n",
              "      <td>http://www.sonypictures.com/movies/spectre/</td>\n",
              "      <td>206647</td>\n",
              "      <td>[{\"id\": 470, \"name\": \"spy\"}, {\"id\": 818, \"name...</td>\n",
              "      <td>en</td>\n",
              "      <td>Spectre</td>\n",
              "      <td>A cryptic message from Bond’s past sends him o...</td>\n",
              "      <td>107.376788</td>\n",
              "      <td>[{\"name\": \"Columbia Pictures\", \"id\": 5}, {\"nam...</td>\n",
              "      <td>[{\"iso_3166_1\": \"GB\", \"name\": \"United Kingdom\"...</td>\n",
              "      <td>2015-10-26</td>\n",
              "      <td>880674609</td>\n",
              "      <td>148.0</td>\n",
              "      <td>[{\"iso_639_1\": \"fr\", \"name\": \"Fran\\u00e7ais\"},...</td>\n",
              "      <td>Released</td>\n",
              "      <td>A Plan No One Escapes</td>\n",
              "      <td>Spectre</td>\n",
              "      <td>6.3</td>\n",
              "      <td>4466</td>\n",
              "      <td>206647</td>\n",
              "      <td>[{\"cast_id\": 1, \"character\": \"James Bond\", \"cr...</td>\n",
              "      <td>[{\"credit_id\": \"54805967c3a36829b5002c41\", \"de...</td>\n",
              "    </tr>\n",
              "    <tr>\n",
              "      <th>3</th>\n",
              "      <td>250000000</td>\n",
              "      <td>[{\"id\": 28, \"name\": \"Action\"}, {\"id\": 80, \"nam...</td>\n",
              "      <td>http://www.thedarkknightrises.com/</td>\n",
              "      <td>49026</td>\n",
              "      <td>[{\"id\": 849, \"name\": \"dc comics\"}, {\"id\": 853,...</td>\n",
              "      <td>en</td>\n",
              "      <td>The Dark Knight Rises</td>\n",
              "      <td>Following the death of District Attorney Harve...</td>\n",
              "      <td>112.312950</td>\n",
              "      <td>[{\"name\": \"Legendary Pictures\", \"id\": 923}, {\"...</td>\n",
              "      <td>[{\"iso_3166_1\": \"US\", \"name\": \"United States o...</td>\n",
              "      <td>2012-07-16</td>\n",
              "      <td>1084939099</td>\n",
              "      <td>165.0</td>\n",
              "      <td>[{\"iso_639_1\": \"en\", \"name\": \"English\"}]</td>\n",
              "      <td>Released</td>\n",
              "      <td>The Legend Ends</td>\n",
              "      <td>The Dark Knight Rises</td>\n",
              "      <td>7.6</td>\n",
              "      <td>9106</td>\n",
              "      <td>49026</td>\n",
              "      <td>[{\"cast_id\": 2, \"character\": \"Bruce Wayne / Ba...</td>\n",
              "      <td>[{\"credit_id\": \"52fe4781c3a36847f81398c3\", \"de...</td>\n",
              "    </tr>\n",
              "    <tr>\n",
              "      <th>4</th>\n",
              "      <td>260000000</td>\n",
              "      <td>[{\"id\": 28, \"name\": \"Action\"}, {\"id\": 12, \"nam...</td>\n",
              "      <td>http://movies.disney.com/john-carter</td>\n",
              "      <td>49529</td>\n",
              "      <td>[{\"id\": 818, \"name\": \"based on novel\"}, {\"id\":...</td>\n",
              "      <td>en</td>\n",
              "      <td>John Carter</td>\n",
              "      <td>John Carter is a war-weary, former military ca...</td>\n",
              "      <td>43.926995</td>\n",
              "      <td>[{\"name\": \"Walt Disney Pictures\", \"id\": 2}]</td>\n",
              "      <td>[{\"iso_3166_1\": \"US\", \"name\": \"United States o...</td>\n",
              "      <td>2012-03-07</td>\n",
              "      <td>284139100</td>\n",
              "      <td>132.0</td>\n",
              "      <td>[{\"iso_639_1\": \"en\", \"name\": \"English\"}]</td>\n",
              "      <td>Released</td>\n",
              "      <td>Lost in our world, found in another.</td>\n",
              "      <td>John Carter</td>\n",
              "      <td>6.1</td>\n",
              "      <td>2124</td>\n",
              "      <td>49529</td>\n",
              "      <td>[{\"cast_id\": 5, \"character\": \"John Carter\", \"c...</td>\n",
              "      <td>[{\"credit_id\": \"52fe479ac3a36847f813eaa3\", \"de...</td>\n",
              "    </tr>\n",
              "  </tbody>\n",
              "</table>\n",
              "</div>\n",
              "      <button class=\"colab-df-convert\" onclick=\"convertToInteractive('df-5ab76bb2-0185-4896-ba4a-47faa9f6793f')\"\n",
              "              title=\"Convert this dataframe to an interactive table.\"\n",
              "              style=\"display:none;\">\n",
              "        \n",
              "  <svg xmlns=\"http://www.w3.org/2000/svg\" height=\"24px\"viewBox=\"0 0 24 24\"\n",
              "       width=\"24px\">\n",
              "    <path d=\"M0 0h24v24H0V0z\" fill=\"none\"/>\n",
              "    <path d=\"M18.56 5.44l.94 2.06.94-2.06 2.06-.94-2.06-.94-.94-2.06-.94 2.06-2.06.94zm-11 1L8.5 8.5l.94-2.06 2.06-.94-2.06-.94L8.5 2.5l-.94 2.06-2.06.94zm10 10l.94 2.06.94-2.06 2.06-.94-2.06-.94-.94-2.06-.94 2.06-2.06.94z\"/><path d=\"M17.41 7.96l-1.37-1.37c-.4-.4-.92-.59-1.43-.59-.52 0-1.04.2-1.43.59L10.3 9.45l-7.72 7.72c-.78.78-.78 2.05 0 2.83L4 21.41c.39.39.9.59 1.41.59.51 0 1.02-.2 1.41-.59l7.78-7.78 2.81-2.81c.8-.78.8-2.07 0-2.86zM5.41 20L4 18.59l7.72-7.72 1.47 1.35L5.41 20z\"/>\n",
              "  </svg>\n",
              "      </button>\n",
              "      \n",
              "  <style>\n",
              "    .colab-df-container {\n",
              "      display:flex;\n",
              "      flex-wrap:wrap;\n",
              "      gap: 12px;\n",
              "    }\n",
              "\n",
              "    .colab-df-convert {\n",
              "      background-color: #E8F0FE;\n",
              "      border: none;\n",
              "      border-radius: 50%;\n",
              "      cursor: pointer;\n",
              "      display: none;\n",
              "      fill: #1967D2;\n",
              "      height: 32px;\n",
              "      padding: 0 0 0 0;\n",
              "      width: 32px;\n",
              "    }\n",
              "\n",
              "    .colab-df-convert:hover {\n",
              "      background-color: #E2EBFA;\n",
              "      box-shadow: 0px 1px 2px rgba(60, 64, 67, 0.3), 0px 1px 3px 1px rgba(60, 64, 67, 0.15);\n",
              "      fill: #174EA6;\n",
              "    }\n",
              "\n",
              "    [theme=dark] .colab-df-convert {\n",
              "      background-color: #3B4455;\n",
              "      fill: #D2E3FC;\n",
              "    }\n",
              "\n",
              "    [theme=dark] .colab-df-convert:hover {\n",
              "      background-color: #434B5C;\n",
              "      box-shadow: 0px 1px 3px 1px rgba(0, 0, 0, 0.15);\n",
              "      filter: drop-shadow(0px 1px 2px rgba(0, 0, 0, 0.3));\n",
              "      fill: #FFFFFF;\n",
              "    }\n",
              "  </style>\n",
              "\n",
              "      <script>\n",
              "        const buttonEl =\n",
              "          document.querySelector('#df-5ab76bb2-0185-4896-ba4a-47faa9f6793f button.colab-df-convert');\n",
              "        buttonEl.style.display =\n",
              "          google.colab.kernel.accessAllowed ? 'block' : 'none';\n",
              "\n",
              "        async function convertToInteractive(key) {\n",
              "          const element = document.querySelector('#df-5ab76bb2-0185-4896-ba4a-47faa9f6793f');\n",
              "          const dataTable =\n",
              "            await google.colab.kernel.invokeFunction('convertToInteractive',\n",
              "                                                     [key], {});\n",
              "          if (!dataTable) return;\n",
              "\n",
              "          const docLinkHtml = 'Like what you see? Visit the ' +\n",
              "            '<a target=\"_blank\" href=https://colab.research.google.com/notebooks/data_table.ipynb>data table notebook</a>'\n",
              "            + ' to learn more about interactive tables.';\n",
              "          element.innerHTML = '';\n",
              "          dataTable['output_type'] = 'display_data';\n",
              "          await google.colab.output.renderOutput(dataTable, element);\n",
              "          const docLink = document.createElement('div');\n",
              "          docLink.innerHTML = docLinkHtml;\n",
              "          element.appendChild(docLink);\n",
              "        }\n",
              "      </script>\n",
              "    </div>\n",
              "  </div>\n",
              "  "
            ]
          },
          "metadata": {},
          "execution_count": 82
        }
      ]
    },
    {
      "cell_type": "markdown",
      "source": [
        "Mengambil kolom yang akan kita gunakan saja"
      ],
      "metadata": {
        "id": "ykQP9YzlbEoi"
      }
    },
    {
      "cell_type": "code",
      "source": [
        "movies = movies[['movie_id','title','overview','genres','keywords','cast','crew']]"
      ],
      "metadata": {
        "id": "G2JbZ3cDpyRb"
      },
      "execution_count": 83,
      "outputs": []
    },
    {
      "cell_type": "code",
      "source": [
        "movies.head(5)"
      ],
      "metadata": {
        "id": "d4SdqIa7pyTp",
        "colab": {
          "base_uri": "https://localhost:8080/",
          "height": 511
        },
        "outputId": "f935413e-3036-4bf8-c16a-6801ac0c8762"
      },
      "execution_count": 84,
      "outputs": [
        {
          "output_type": "execute_result",
          "data": {
            "text/plain": [
              "   movie_id                                     title                                           overview                                             genres                                           keywords                                               cast                                               crew\n",
              "0     19995                                    Avatar  In the 22nd century, a paraplegic Marine is di...  [{\"id\": 28, \"name\": \"Action\"}, {\"id\": 12, \"nam...  [{\"id\": 1463, \"name\": \"culture clash\"}, {\"id\":...  [{\"cast_id\": 242, \"character\": \"Jake Sully\", \"...  [{\"credit_id\": \"52fe48009251416c750aca23\", \"de...\n",
              "1       285  Pirates of the Caribbean: At World's End  Captain Barbossa, long believed to be dead, ha...  [{\"id\": 12, \"name\": \"Adventure\"}, {\"id\": 14, \"...  [{\"id\": 270, \"name\": \"ocean\"}, {\"id\": 726, \"na...  [{\"cast_id\": 4, \"character\": \"Captain Jack Spa...  [{\"credit_id\": \"52fe4232c3a36847f800b579\", \"de...\n",
              "2    206647                                   Spectre  A cryptic message from Bond’s past sends him o...  [{\"id\": 28, \"name\": \"Action\"}, {\"id\": 12, \"nam...  [{\"id\": 470, \"name\": \"spy\"}, {\"id\": 818, \"name...  [{\"cast_id\": 1, \"character\": \"James Bond\", \"cr...  [{\"credit_id\": \"54805967c3a36829b5002c41\", \"de...\n",
              "3     49026                     The Dark Knight Rises  Following the death of District Attorney Harve...  [{\"id\": 28, \"name\": \"Action\"}, {\"id\": 80, \"nam...  [{\"id\": 849, \"name\": \"dc comics\"}, {\"id\": 853,...  [{\"cast_id\": 2, \"character\": \"Bruce Wayne / Ba...  [{\"credit_id\": \"52fe4781c3a36847f81398c3\", \"de...\n",
              "4     49529                               John Carter  John Carter is a war-weary, former military ca...  [{\"id\": 28, \"name\": \"Action\"}, {\"id\": 12, \"nam...  [{\"id\": 818, \"name\": \"based on novel\"}, {\"id\":...  [{\"cast_id\": 5, \"character\": \"John Carter\", \"c...  [{\"credit_id\": \"52fe479ac3a36847f813eaa3\", \"de..."
            ],
            "text/html": [
              "\n",
              "  <div id=\"df-96630d22-b860-4a28-89a8-ef0eb800fbe8\">\n",
              "    <div class=\"colab-df-container\">\n",
              "      <div>\n",
              "<style scoped>\n",
              "    .dataframe tbody tr th:only-of-type {\n",
              "        vertical-align: middle;\n",
              "    }\n",
              "\n",
              "    .dataframe tbody tr th {\n",
              "        vertical-align: top;\n",
              "    }\n",
              "\n",
              "    .dataframe thead th {\n",
              "        text-align: right;\n",
              "    }\n",
              "</style>\n",
              "<table border=\"1\" class=\"dataframe\">\n",
              "  <thead>\n",
              "    <tr style=\"text-align: right;\">\n",
              "      <th></th>\n",
              "      <th>movie_id</th>\n",
              "      <th>title</th>\n",
              "      <th>overview</th>\n",
              "      <th>genres</th>\n",
              "      <th>keywords</th>\n",
              "      <th>cast</th>\n",
              "      <th>crew</th>\n",
              "    </tr>\n",
              "  </thead>\n",
              "  <tbody>\n",
              "    <tr>\n",
              "      <th>0</th>\n",
              "      <td>19995</td>\n",
              "      <td>Avatar</td>\n",
              "      <td>In the 22nd century, a paraplegic Marine is di...</td>\n",
              "      <td>[{\"id\": 28, \"name\": \"Action\"}, {\"id\": 12, \"nam...</td>\n",
              "      <td>[{\"id\": 1463, \"name\": \"culture clash\"}, {\"id\":...</td>\n",
              "      <td>[{\"cast_id\": 242, \"character\": \"Jake Sully\", \"...</td>\n",
              "      <td>[{\"credit_id\": \"52fe48009251416c750aca23\", \"de...</td>\n",
              "    </tr>\n",
              "    <tr>\n",
              "      <th>1</th>\n",
              "      <td>285</td>\n",
              "      <td>Pirates of the Caribbean: At World's End</td>\n",
              "      <td>Captain Barbossa, long believed to be dead, ha...</td>\n",
              "      <td>[{\"id\": 12, \"name\": \"Adventure\"}, {\"id\": 14, \"...</td>\n",
              "      <td>[{\"id\": 270, \"name\": \"ocean\"}, {\"id\": 726, \"na...</td>\n",
              "      <td>[{\"cast_id\": 4, \"character\": \"Captain Jack Spa...</td>\n",
              "      <td>[{\"credit_id\": \"52fe4232c3a36847f800b579\", \"de...</td>\n",
              "    </tr>\n",
              "    <tr>\n",
              "      <th>2</th>\n",
              "      <td>206647</td>\n",
              "      <td>Spectre</td>\n",
              "      <td>A cryptic message from Bond’s past sends him o...</td>\n",
              "      <td>[{\"id\": 28, \"name\": \"Action\"}, {\"id\": 12, \"nam...</td>\n",
              "      <td>[{\"id\": 470, \"name\": \"spy\"}, {\"id\": 818, \"name...</td>\n",
              "      <td>[{\"cast_id\": 1, \"character\": \"James Bond\", \"cr...</td>\n",
              "      <td>[{\"credit_id\": \"54805967c3a36829b5002c41\", \"de...</td>\n",
              "    </tr>\n",
              "    <tr>\n",
              "      <th>3</th>\n",
              "      <td>49026</td>\n",
              "      <td>The Dark Knight Rises</td>\n",
              "      <td>Following the death of District Attorney Harve...</td>\n",
              "      <td>[{\"id\": 28, \"name\": \"Action\"}, {\"id\": 80, \"nam...</td>\n",
              "      <td>[{\"id\": 849, \"name\": \"dc comics\"}, {\"id\": 853,...</td>\n",
              "      <td>[{\"cast_id\": 2, \"character\": \"Bruce Wayne / Ba...</td>\n",
              "      <td>[{\"credit_id\": \"52fe4781c3a36847f81398c3\", \"de...</td>\n",
              "    </tr>\n",
              "    <tr>\n",
              "      <th>4</th>\n",
              "      <td>49529</td>\n",
              "      <td>John Carter</td>\n",
              "      <td>John Carter is a war-weary, former military ca...</td>\n",
              "      <td>[{\"id\": 28, \"name\": \"Action\"}, {\"id\": 12, \"nam...</td>\n",
              "      <td>[{\"id\": 818, \"name\": \"based on novel\"}, {\"id\":...</td>\n",
              "      <td>[{\"cast_id\": 5, \"character\": \"John Carter\", \"c...</td>\n",
              "      <td>[{\"credit_id\": \"52fe479ac3a36847f813eaa3\", \"de...</td>\n",
              "    </tr>\n",
              "  </tbody>\n",
              "</table>\n",
              "</div>\n",
              "      <button class=\"colab-df-convert\" onclick=\"convertToInteractive('df-96630d22-b860-4a28-89a8-ef0eb800fbe8')\"\n",
              "              title=\"Convert this dataframe to an interactive table.\"\n",
              "              style=\"display:none;\">\n",
              "        \n",
              "  <svg xmlns=\"http://www.w3.org/2000/svg\" height=\"24px\"viewBox=\"0 0 24 24\"\n",
              "       width=\"24px\">\n",
              "    <path d=\"M0 0h24v24H0V0z\" fill=\"none\"/>\n",
              "    <path d=\"M18.56 5.44l.94 2.06.94-2.06 2.06-.94-2.06-.94-.94-2.06-.94 2.06-2.06.94zm-11 1L8.5 8.5l.94-2.06 2.06-.94-2.06-.94L8.5 2.5l-.94 2.06-2.06.94zm10 10l.94 2.06.94-2.06 2.06-.94-2.06-.94-.94-2.06-.94 2.06-2.06.94z\"/><path d=\"M17.41 7.96l-1.37-1.37c-.4-.4-.92-.59-1.43-.59-.52 0-1.04.2-1.43.59L10.3 9.45l-7.72 7.72c-.78.78-.78 2.05 0 2.83L4 21.41c.39.39.9.59 1.41.59.51 0 1.02-.2 1.41-.59l7.78-7.78 2.81-2.81c.8-.78.8-2.07 0-2.86zM5.41 20L4 18.59l7.72-7.72 1.47 1.35L5.41 20z\"/>\n",
              "  </svg>\n",
              "      </button>\n",
              "      \n",
              "  <style>\n",
              "    .colab-df-container {\n",
              "      display:flex;\n",
              "      flex-wrap:wrap;\n",
              "      gap: 12px;\n",
              "    }\n",
              "\n",
              "    .colab-df-convert {\n",
              "      background-color: #E8F0FE;\n",
              "      border: none;\n",
              "      border-radius: 50%;\n",
              "      cursor: pointer;\n",
              "      display: none;\n",
              "      fill: #1967D2;\n",
              "      height: 32px;\n",
              "      padding: 0 0 0 0;\n",
              "      width: 32px;\n",
              "    }\n",
              "\n",
              "    .colab-df-convert:hover {\n",
              "      background-color: #E2EBFA;\n",
              "      box-shadow: 0px 1px 2px rgba(60, 64, 67, 0.3), 0px 1px 3px 1px rgba(60, 64, 67, 0.15);\n",
              "      fill: #174EA6;\n",
              "    }\n",
              "\n",
              "    [theme=dark] .colab-df-convert {\n",
              "      background-color: #3B4455;\n",
              "      fill: #D2E3FC;\n",
              "    }\n",
              "\n",
              "    [theme=dark] .colab-df-convert:hover {\n",
              "      background-color: #434B5C;\n",
              "      box-shadow: 0px 1px 3px 1px rgba(0, 0, 0, 0.15);\n",
              "      filter: drop-shadow(0px 1px 2px rgba(0, 0, 0, 0.3));\n",
              "      fill: #FFFFFF;\n",
              "    }\n",
              "  </style>\n",
              "\n",
              "      <script>\n",
              "        const buttonEl =\n",
              "          document.querySelector('#df-96630d22-b860-4a28-89a8-ef0eb800fbe8 button.colab-df-convert');\n",
              "        buttonEl.style.display =\n",
              "          google.colab.kernel.accessAllowed ? 'block' : 'none';\n",
              "\n",
              "        async function convertToInteractive(key) {\n",
              "          const element = document.querySelector('#df-96630d22-b860-4a28-89a8-ef0eb800fbe8');\n",
              "          const dataTable =\n",
              "            await google.colab.kernel.invokeFunction('convertToInteractive',\n",
              "                                                     [key], {});\n",
              "          if (!dataTable) return;\n",
              "\n",
              "          const docLinkHtml = 'Like what you see? Visit the ' +\n",
              "            '<a target=\"_blank\" href=https://colab.research.google.com/notebooks/data_table.ipynb>data table notebook</a>'\n",
              "            + ' to learn more about interactive tables.';\n",
              "          element.innerHTML = '';\n",
              "          dataTable['output_type'] = 'display_data';\n",
              "          await google.colab.output.renderOutput(dataTable, element);\n",
              "          const docLink = document.createElement('div');\n",
              "          docLink.innerHTML = docLinkHtml;\n",
              "          element.appendChild(docLink);\n",
              "        }\n",
              "      </script>\n",
              "    </div>\n",
              "  </div>\n",
              "  "
            ]
          },
          "metadata": {},
          "execution_count": 84
        }
      ]
    },
    {
      "cell_type": "markdown",
      "source": [
        "Melakukan pengecekan terhadap data yang kosong lalu akan dibuang"
      ],
      "metadata": {
        "id": "P3MzZcGBbKxq"
      }
    },
    {
      "cell_type": "code",
      "source": [
        "movies.isna().sum()"
      ],
      "metadata": {
        "id": "y7RGjumYpyWC",
        "colab": {
          "base_uri": "https://localhost:8080/"
        },
        "outputId": "eb852ce5-e6b7-4051-e317-a9da63597fce"
      },
      "execution_count": 85,
      "outputs": [
        {
          "output_type": "execute_result",
          "data": {
            "text/plain": [
              "movie_id    0\n",
              "title       0\n",
              "overview    3\n",
              "genres      0\n",
              "keywords    0\n",
              "cast        0\n",
              "crew        0\n",
              "dtype: int64"
            ]
          },
          "metadata": {},
          "execution_count": 85
        }
      ]
    },
    {
      "cell_type": "code",
      "source": [
        "movies.dropna(inplace=True)"
      ],
      "metadata": {
        "id": "nawndIXmpyYO"
      },
      "execution_count": 86,
      "outputs": []
    },
    {
      "cell_type": "code",
      "source": [
        "movies.isna().sum()"
      ],
      "metadata": {
        "id": "CpRr-Dbipyad",
        "colab": {
          "base_uri": "https://localhost:8080/"
        },
        "outputId": "c039fec2-feb2-4228-bc45-479aedd23353"
      },
      "execution_count": 87,
      "outputs": [
        {
          "output_type": "execute_result",
          "data": {
            "text/plain": [
              "movie_id    0\n",
              "title       0\n",
              "overview    0\n",
              "genres      0\n",
              "keywords    0\n",
              "cast        0\n",
              "crew        0\n",
              "dtype: int64"
            ]
          },
          "metadata": {},
          "execution_count": 87
        }
      ]
    },
    {
      "cell_type": "markdown",
      "source": [
        "Melakukan konversi tulisan pada beberapa kolom"
      ],
      "metadata": {
        "id": "nrbpVxwSbR0R"
      }
    },
    {
      "cell_type": "code",
      "source": [
        "def convert(text):\n",
        "    L = []\n",
        "    for i in ast.literal_eval(text):\n",
        "        L.append(i['name']) \n",
        "    return L\n",
        "\n",
        "for column in ['genres','keywords']:\n",
        "    movies[column] = movies[column].apply(convert)"
      ],
      "metadata": {
        "id": "R_-UDXRTP-v2"
      },
      "execution_count": 88,
      "outputs": []
    },
    {
      "cell_type": "code",
      "source": [
        "movies.head(5)"
      ],
      "metadata": {
        "colab": {
          "base_uri": "https://localhost:8080/",
          "height": 511
        },
        "id": "jbENnoybQKhU",
        "outputId": "39650aa7-0155-4b0c-fc4f-7e050f7f2e43"
      },
      "execution_count": 89,
      "outputs": [
        {
          "output_type": "execute_result",
          "data": {
            "text/plain": [
              "   movie_id                                     title                                           overview                                         genres                                           keywords                                               cast                                               crew\n",
              "0     19995                                    Avatar  In the 22nd century, a paraplegic Marine is di...  [Action, Adventure, Fantasy, Science Fiction]  [culture clash, future, space war, space colon...  [{\"cast_id\": 242, \"character\": \"Jake Sully\", \"...  [{\"credit_id\": \"52fe48009251416c750aca23\", \"de...\n",
              "1       285  Pirates of the Caribbean: At World's End  Captain Barbossa, long believed to be dead, ha...                   [Adventure, Fantasy, Action]  [ocean, drug abuse, exotic island, east india ...  [{\"cast_id\": 4, \"character\": \"Captain Jack Spa...  [{\"credit_id\": \"52fe4232c3a36847f800b579\", \"de...\n",
              "2    206647                                   Spectre  A cryptic message from Bond’s past sends him o...                     [Action, Adventure, Crime]  [spy, based on novel, secret agent, sequel, mi...  [{\"cast_id\": 1, \"character\": \"James Bond\", \"cr...  [{\"credit_id\": \"54805967c3a36829b5002c41\", \"de...\n",
              "3     49026                     The Dark Knight Rises  Following the death of District Attorney Harve...               [Action, Crime, Drama, Thriller]  [dc comics, crime fighter, terrorist, secret i...  [{\"cast_id\": 2, \"character\": \"Bruce Wayne / Ba...  [{\"credit_id\": \"52fe4781c3a36847f81398c3\", \"de...\n",
              "4     49529                               John Carter  John Carter is a war-weary, former military ca...           [Action, Adventure, Science Fiction]  [based on novel, mars, medallion, space travel...  [{\"cast_id\": 5, \"character\": \"John Carter\", \"c...  [{\"credit_id\": \"52fe479ac3a36847f813eaa3\", \"de..."
            ],
            "text/html": [
              "\n",
              "  <div id=\"df-a01334c6-f499-48a5-8705-0339820c9a32\">\n",
              "    <div class=\"colab-df-container\">\n",
              "      <div>\n",
              "<style scoped>\n",
              "    .dataframe tbody tr th:only-of-type {\n",
              "        vertical-align: middle;\n",
              "    }\n",
              "\n",
              "    .dataframe tbody tr th {\n",
              "        vertical-align: top;\n",
              "    }\n",
              "\n",
              "    .dataframe thead th {\n",
              "        text-align: right;\n",
              "    }\n",
              "</style>\n",
              "<table border=\"1\" class=\"dataframe\">\n",
              "  <thead>\n",
              "    <tr style=\"text-align: right;\">\n",
              "      <th></th>\n",
              "      <th>movie_id</th>\n",
              "      <th>title</th>\n",
              "      <th>overview</th>\n",
              "      <th>genres</th>\n",
              "      <th>keywords</th>\n",
              "      <th>cast</th>\n",
              "      <th>crew</th>\n",
              "    </tr>\n",
              "  </thead>\n",
              "  <tbody>\n",
              "    <tr>\n",
              "      <th>0</th>\n",
              "      <td>19995</td>\n",
              "      <td>Avatar</td>\n",
              "      <td>In the 22nd century, a paraplegic Marine is di...</td>\n",
              "      <td>[Action, Adventure, Fantasy, Science Fiction]</td>\n",
              "      <td>[culture clash, future, space war, space colon...</td>\n",
              "      <td>[{\"cast_id\": 242, \"character\": \"Jake Sully\", \"...</td>\n",
              "      <td>[{\"credit_id\": \"52fe48009251416c750aca23\", \"de...</td>\n",
              "    </tr>\n",
              "    <tr>\n",
              "      <th>1</th>\n",
              "      <td>285</td>\n",
              "      <td>Pirates of the Caribbean: At World's End</td>\n",
              "      <td>Captain Barbossa, long believed to be dead, ha...</td>\n",
              "      <td>[Adventure, Fantasy, Action]</td>\n",
              "      <td>[ocean, drug abuse, exotic island, east india ...</td>\n",
              "      <td>[{\"cast_id\": 4, \"character\": \"Captain Jack Spa...</td>\n",
              "      <td>[{\"credit_id\": \"52fe4232c3a36847f800b579\", \"de...</td>\n",
              "    </tr>\n",
              "    <tr>\n",
              "      <th>2</th>\n",
              "      <td>206647</td>\n",
              "      <td>Spectre</td>\n",
              "      <td>A cryptic message from Bond’s past sends him o...</td>\n",
              "      <td>[Action, Adventure, Crime]</td>\n",
              "      <td>[spy, based on novel, secret agent, sequel, mi...</td>\n",
              "      <td>[{\"cast_id\": 1, \"character\": \"James Bond\", \"cr...</td>\n",
              "      <td>[{\"credit_id\": \"54805967c3a36829b5002c41\", \"de...</td>\n",
              "    </tr>\n",
              "    <tr>\n",
              "      <th>3</th>\n",
              "      <td>49026</td>\n",
              "      <td>The Dark Knight Rises</td>\n",
              "      <td>Following the death of District Attorney Harve...</td>\n",
              "      <td>[Action, Crime, Drama, Thriller]</td>\n",
              "      <td>[dc comics, crime fighter, terrorist, secret i...</td>\n",
              "      <td>[{\"cast_id\": 2, \"character\": \"Bruce Wayne / Ba...</td>\n",
              "      <td>[{\"credit_id\": \"52fe4781c3a36847f81398c3\", \"de...</td>\n",
              "    </tr>\n",
              "    <tr>\n",
              "      <th>4</th>\n",
              "      <td>49529</td>\n",
              "      <td>John Carter</td>\n",
              "      <td>John Carter is a war-weary, former military ca...</td>\n",
              "      <td>[Action, Adventure, Science Fiction]</td>\n",
              "      <td>[based on novel, mars, medallion, space travel...</td>\n",
              "      <td>[{\"cast_id\": 5, \"character\": \"John Carter\", \"c...</td>\n",
              "      <td>[{\"credit_id\": \"52fe479ac3a36847f813eaa3\", \"de...</td>\n",
              "    </tr>\n",
              "  </tbody>\n",
              "</table>\n",
              "</div>\n",
              "      <button class=\"colab-df-convert\" onclick=\"convertToInteractive('df-a01334c6-f499-48a5-8705-0339820c9a32')\"\n",
              "              title=\"Convert this dataframe to an interactive table.\"\n",
              "              style=\"display:none;\">\n",
              "        \n",
              "  <svg xmlns=\"http://www.w3.org/2000/svg\" height=\"24px\"viewBox=\"0 0 24 24\"\n",
              "       width=\"24px\">\n",
              "    <path d=\"M0 0h24v24H0V0z\" fill=\"none\"/>\n",
              "    <path d=\"M18.56 5.44l.94 2.06.94-2.06 2.06-.94-2.06-.94-.94-2.06-.94 2.06-2.06.94zm-11 1L8.5 8.5l.94-2.06 2.06-.94-2.06-.94L8.5 2.5l-.94 2.06-2.06.94zm10 10l.94 2.06.94-2.06 2.06-.94-2.06-.94-.94-2.06-.94 2.06-2.06.94z\"/><path d=\"M17.41 7.96l-1.37-1.37c-.4-.4-.92-.59-1.43-.59-.52 0-1.04.2-1.43.59L10.3 9.45l-7.72 7.72c-.78.78-.78 2.05 0 2.83L4 21.41c.39.39.9.59 1.41.59.51 0 1.02-.2 1.41-.59l7.78-7.78 2.81-2.81c.8-.78.8-2.07 0-2.86zM5.41 20L4 18.59l7.72-7.72 1.47 1.35L5.41 20z\"/>\n",
              "  </svg>\n",
              "      </button>\n",
              "      \n",
              "  <style>\n",
              "    .colab-df-container {\n",
              "      display:flex;\n",
              "      flex-wrap:wrap;\n",
              "      gap: 12px;\n",
              "    }\n",
              "\n",
              "    .colab-df-convert {\n",
              "      background-color: #E8F0FE;\n",
              "      border: none;\n",
              "      border-radius: 50%;\n",
              "      cursor: pointer;\n",
              "      display: none;\n",
              "      fill: #1967D2;\n",
              "      height: 32px;\n",
              "      padding: 0 0 0 0;\n",
              "      width: 32px;\n",
              "    }\n",
              "\n",
              "    .colab-df-convert:hover {\n",
              "      background-color: #E2EBFA;\n",
              "      box-shadow: 0px 1px 2px rgba(60, 64, 67, 0.3), 0px 1px 3px 1px rgba(60, 64, 67, 0.15);\n",
              "      fill: #174EA6;\n",
              "    }\n",
              "\n",
              "    [theme=dark] .colab-df-convert {\n",
              "      background-color: #3B4455;\n",
              "      fill: #D2E3FC;\n",
              "    }\n",
              "\n",
              "    [theme=dark] .colab-df-convert:hover {\n",
              "      background-color: #434B5C;\n",
              "      box-shadow: 0px 1px 3px 1px rgba(0, 0, 0, 0.15);\n",
              "      filter: drop-shadow(0px 1px 2px rgba(0, 0, 0, 0.3));\n",
              "      fill: #FFFFFF;\n",
              "    }\n",
              "  </style>\n",
              "\n",
              "      <script>\n",
              "        const buttonEl =\n",
              "          document.querySelector('#df-a01334c6-f499-48a5-8705-0339820c9a32 button.colab-df-convert');\n",
              "        buttonEl.style.display =\n",
              "          google.colab.kernel.accessAllowed ? 'block' : 'none';\n",
              "\n",
              "        async function convertToInteractive(key) {\n",
              "          const element = document.querySelector('#df-a01334c6-f499-48a5-8705-0339820c9a32');\n",
              "          const dataTable =\n",
              "            await google.colab.kernel.invokeFunction('convertToInteractive',\n",
              "                                                     [key], {});\n",
              "          if (!dataTable) return;\n",
              "\n",
              "          const docLinkHtml = 'Like what you see? Visit the ' +\n",
              "            '<a target=\"_blank\" href=https://colab.research.google.com/notebooks/data_table.ipynb>data table notebook</a>'\n",
              "            + ' to learn more about interactive tables.';\n",
              "          element.innerHTML = '';\n",
              "          dataTable['output_type'] = 'display_data';\n",
              "          await google.colab.output.renderOutput(dataTable, element);\n",
              "          const docLink = document.createElement('div');\n",
              "          docLink.innerHTML = docLinkHtml;\n",
              "          element.appendChild(docLink);\n",
              "        }\n",
              "      </script>\n",
              "    </div>\n",
              "  </div>\n",
              "  "
            ]
          },
          "metadata": {},
          "execution_count": 89
        }
      ]
    },
    {
      "cell_type": "code",
      "source": [
        "def convert2(text):\n",
        "    L = []\n",
        "    counter = 0\n",
        "    for i in ast.literal_eval(text):\n",
        "        if counter < 3:\n",
        "            L.append(i['name'])\n",
        "        counter+=1\n",
        "    return L\n",
        "\n",
        "movies['cast'] = movies['cast'].apply(convert)\n",
        "movies['cast'] = movies['cast'].apply(lambda x:x[0:3])"
      ],
      "metadata": {
        "id": "NIm_Vw7SQop5"
      },
      "execution_count": 90,
      "outputs": []
    },
    {
      "cell_type": "code",
      "source": [
        "movies.head(5)"
      ],
      "metadata": {
        "colab": {
          "base_uri": "https://localhost:8080/",
          "height": 511
        },
        "id": "93O5l8MaQose",
        "outputId": "3d64b5a0-b271-4d3e-f6a1-bd547aec39af"
      },
      "execution_count": 91,
      "outputs": [
        {
          "output_type": "execute_result",
          "data": {
            "text/plain": [
              "   movie_id                                     title                                           overview                                         genres                                           keywords                                              cast                                               crew\n",
              "0     19995                                    Avatar  In the 22nd century, a paraplegic Marine is di...  [Action, Adventure, Fantasy, Science Fiction]  [culture clash, future, space war, space colon...  [Sam Worthington, Zoe Saldana, Sigourney Weaver]  [{\"credit_id\": \"52fe48009251416c750aca23\", \"de...\n",
              "1       285  Pirates of the Caribbean: At World's End  Captain Barbossa, long believed to be dead, ha...                   [Adventure, Fantasy, Action]  [ocean, drug abuse, exotic island, east india ...     [Johnny Depp, Orlando Bloom, Keira Knightley]  [{\"credit_id\": \"52fe4232c3a36847f800b579\", \"de...\n",
              "2    206647                                   Spectre  A cryptic message from Bond’s past sends him o...                     [Action, Adventure, Crime]  [spy, based on novel, secret agent, sequel, mi...      [Daniel Craig, Christoph Waltz, Léa Seydoux]  [{\"credit_id\": \"54805967c3a36829b5002c41\", \"de...\n",
              "3     49026                     The Dark Knight Rises  Following the death of District Attorney Harve...               [Action, Crime, Drama, Thriller]  [dc comics, crime fighter, terrorist, secret i...      [Christian Bale, Michael Caine, Gary Oldman]  [{\"credit_id\": \"52fe4781c3a36847f81398c3\", \"de...\n",
              "4     49529                               John Carter  John Carter is a war-weary, former military ca...           [Action, Adventure, Science Fiction]  [based on novel, mars, medallion, space travel...    [Taylor Kitsch, Lynn Collins, Samantha Morton]  [{\"credit_id\": \"52fe479ac3a36847f813eaa3\", \"de..."
            ],
            "text/html": [
              "\n",
              "  <div id=\"df-c1647249-6ad9-4fa4-8a71-ab9a5d681df6\">\n",
              "    <div class=\"colab-df-container\">\n",
              "      <div>\n",
              "<style scoped>\n",
              "    .dataframe tbody tr th:only-of-type {\n",
              "        vertical-align: middle;\n",
              "    }\n",
              "\n",
              "    .dataframe tbody tr th {\n",
              "        vertical-align: top;\n",
              "    }\n",
              "\n",
              "    .dataframe thead th {\n",
              "        text-align: right;\n",
              "    }\n",
              "</style>\n",
              "<table border=\"1\" class=\"dataframe\">\n",
              "  <thead>\n",
              "    <tr style=\"text-align: right;\">\n",
              "      <th></th>\n",
              "      <th>movie_id</th>\n",
              "      <th>title</th>\n",
              "      <th>overview</th>\n",
              "      <th>genres</th>\n",
              "      <th>keywords</th>\n",
              "      <th>cast</th>\n",
              "      <th>crew</th>\n",
              "    </tr>\n",
              "  </thead>\n",
              "  <tbody>\n",
              "    <tr>\n",
              "      <th>0</th>\n",
              "      <td>19995</td>\n",
              "      <td>Avatar</td>\n",
              "      <td>In the 22nd century, a paraplegic Marine is di...</td>\n",
              "      <td>[Action, Adventure, Fantasy, Science Fiction]</td>\n",
              "      <td>[culture clash, future, space war, space colon...</td>\n",
              "      <td>[Sam Worthington, Zoe Saldana, Sigourney Weaver]</td>\n",
              "      <td>[{\"credit_id\": \"52fe48009251416c750aca23\", \"de...</td>\n",
              "    </tr>\n",
              "    <tr>\n",
              "      <th>1</th>\n",
              "      <td>285</td>\n",
              "      <td>Pirates of the Caribbean: At World's End</td>\n",
              "      <td>Captain Barbossa, long believed to be dead, ha...</td>\n",
              "      <td>[Adventure, Fantasy, Action]</td>\n",
              "      <td>[ocean, drug abuse, exotic island, east india ...</td>\n",
              "      <td>[Johnny Depp, Orlando Bloom, Keira Knightley]</td>\n",
              "      <td>[{\"credit_id\": \"52fe4232c3a36847f800b579\", \"de...</td>\n",
              "    </tr>\n",
              "    <tr>\n",
              "      <th>2</th>\n",
              "      <td>206647</td>\n",
              "      <td>Spectre</td>\n",
              "      <td>A cryptic message from Bond’s past sends him o...</td>\n",
              "      <td>[Action, Adventure, Crime]</td>\n",
              "      <td>[spy, based on novel, secret agent, sequel, mi...</td>\n",
              "      <td>[Daniel Craig, Christoph Waltz, Léa Seydoux]</td>\n",
              "      <td>[{\"credit_id\": \"54805967c3a36829b5002c41\", \"de...</td>\n",
              "    </tr>\n",
              "    <tr>\n",
              "      <th>3</th>\n",
              "      <td>49026</td>\n",
              "      <td>The Dark Knight Rises</td>\n",
              "      <td>Following the death of District Attorney Harve...</td>\n",
              "      <td>[Action, Crime, Drama, Thriller]</td>\n",
              "      <td>[dc comics, crime fighter, terrorist, secret i...</td>\n",
              "      <td>[Christian Bale, Michael Caine, Gary Oldman]</td>\n",
              "      <td>[{\"credit_id\": \"52fe4781c3a36847f81398c3\", \"de...</td>\n",
              "    </tr>\n",
              "    <tr>\n",
              "      <th>4</th>\n",
              "      <td>49529</td>\n",
              "      <td>John Carter</td>\n",
              "      <td>John Carter is a war-weary, former military ca...</td>\n",
              "      <td>[Action, Adventure, Science Fiction]</td>\n",
              "      <td>[based on novel, mars, medallion, space travel...</td>\n",
              "      <td>[Taylor Kitsch, Lynn Collins, Samantha Morton]</td>\n",
              "      <td>[{\"credit_id\": \"52fe479ac3a36847f813eaa3\", \"de...</td>\n",
              "    </tr>\n",
              "  </tbody>\n",
              "</table>\n",
              "</div>\n",
              "      <button class=\"colab-df-convert\" onclick=\"convertToInteractive('df-c1647249-6ad9-4fa4-8a71-ab9a5d681df6')\"\n",
              "              title=\"Convert this dataframe to an interactive table.\"\n",
              "              style=\"display:none;\">\n",
              "        \n",
              "  <svg xmlns=\"http://www.w3.org/2000/svg\" height=\"24px\"viewBox=\"0 0 24 24\"\n",
              "       width=\"24px\">\n",
              "    <path d=\"M0 0h24v24H0V0z\" fill=\"none\"/>\n",
              "    <path d=\"M18.56 5.44l.94 2.06.94-2.06 2.06-.94-2.06-.94-.94-2.06-.94 2.06-2.06.94zm-11 1L8.5 8.5l.94-2.06 2.06-.94-2.06-.94L8.5 2.5l-.94 2.06-2.06.94zm10 10l.94 2.06.94-2.06 2.06-.94-2.06-.94-.94-2.06-.94 2.06-2.06.94z\"/><path d=\"M17.41 7.96l-1.37-1.37c-.4-.4-.92-.59-1.43-.59-.52 0-1.04.2-1.43.59L10.3 9.45l-7.72 7.72c-.78.78-.78 2.05 0 2.83L4 21.41c.39.39.9.59 1.41.59.51 0 1.02-.2 1.41-.59l7.78-7.78 2.81-2.81c.8-.78.8-2.07 0-2.86zM5.41 20L4 18.59l7.72-7.72 1.47 1.35L5.41 20z\"/>\n",
              "  </svg>\n",
              "      </button>\n",
              "      \n",
              "  <style>\n",
              "    .colab-df-container {\n",
              "      display:flex;\n",
              "      flex-wrap:wrap;\n",
              "      gap: 12px;\n",
              "    }\n",
              "\n",
              "    .colab-df-convert {\n",
              "      background-color: #E8F0FE;\n",
              "      border: none;\n",
              "      border-radius: 50%;\n",
              "      cursor: pointer;\n",
              "      display: none;\n",
              "      fill: #1967D2;\n",
              "      height: 32px;\n",
              "      padding: 0 0 0 0;\n",
              "      width: 32px;\n",
              "    }\n",
              "\n",
              "    .colab-df-convert:hover {\n",
              "      background-color: #E2EBFA;\n",
              "      box-shadow: 0px 1px 2px rgba(60, 64, 67, 0.3), 0px 1px 3px 1px rgba(60, 64, 67, 0.15);\n",
              "      fill: #174EA6;\n",
              "    }\n",
              "\n",
              "    [theme=dark] .colab-df-convert {\n",
              "      background-color: #3B4455;\n",
              "      fill: #D2E3FC;\n",
              "    }\n",
              "\n",
              "    [theme=dark] .colab-df-convert:hover {\n",
              "      background-color: #434B5C;\n",
              "      box-shadow: 0px 1px 3px 1px rgba(0, 0, 0, 0.15);\n",
              "      filter: drop-shadow(0px 1px 2px rgba(0, 0, 0, 0.3));\n",
              "      fill: #FFFFFF;\n",
              "    }\n",
              "  </style>\n",
              "\n",
              "      <script>\n",
              "        const buttonEl =\n",
              "          document.querySelector('#df-c1647249-6ad9-4fa4-8a71-ab9a5d681df6 button.colab-df-convert');\n",
              "        buttonEl.style.display =\n",
              "          google.colab.kernel.accessAllowed ? 'block' : 'none';\n",
              "\n",
              "        async function convertToInteractive(key) {\n",
              "          const element = document.querySelector('#df-c1647249-6ad9-4fa4-8a71-ab9a5d681df6');\n",
              "          const dataTable =\n",
              "            await google.colab.kernel.invokeFunction('convertToInteractive',\n",
              "                                                     [key], {});\n",
              "          if (!dataTable) return;\n",
              "\n",
              "          const docLinkHtml = 'Like what you see? Visit the ' +\n",
              "            '<a target=\"_blank\" href=https://colab.research.google.com/notebooks/data_table.ipynb>data table notebook</a>'\n",
              "            + ' to learn more about interactive tables.';\n",
              "          element.innerHTML = '';\n",
              "          dataTable['output_type'] = 'display_data';\n",
              "          await google.colab.output.renderOutput(dataTable, element);\n",
              "          const docLink = document.createElement('div');\n",
              "          docLink.innerHTML = docLinkHtml;\n",
              "          element.appendChild(docLink);\n",
              "        }\n",
              "      </script>\n",
              "    </div>\n",
              "  </div>\n",
              "  "
            ]
          },
          "metadata": {},
          "execution_count": 91
        }
      ]
    },
    {
      "cell_type": "code",
      "source": [
        "def fetch_director(text):\n",
        "    L = []\n",
        "    for i in ast.literal_eval(text):\n",
        "        if i['job'] == 'Director':\n",
        "            L.append(i['name'])\n",
        "    return L\n",
        "\n",
        "movies['crew'] = movies['crew'].apply(fetch_director)"
      ],
      "metadata": {
        "id": "xbqfKSx1Qou0"
      },
      "execution_count": 92,
      "outputs": []
    },
    {
      "cell_type": "code",
      "source": [
        "movies.head(5)"
      ],
      "metadata": {
        "colab": {
          "base_uri": "https://localhost:8080/",
          "height": 424
        },
        "id": "CHkB77GAQoxL",
        "outputId": "b197c77e-4127-440a-e59e-0b0f68c35453"
      },
      "execution_count": 93,
      "outputs": [
        {
          "output_type": "execute_result",
          "data": {
            "text/plain": [
              "   movie_id                                     title                                           overview                                         genres                                           keywords                                              cast                 crew\n",
              "0     19995                                    Avatar  In the 22nd century, a paraplegic Marine is di...  [Action, Adventure, Fantasy, Science Fiction]  [culture clash, future, space war, space colon...  [Sam Worthington, Zoe Saldana, Sigourney Weaver]      [James Cameron]\n",
              "1       285  Pirates of the Caribbean: At World's End  Captain Barbossa, long believed to be dead, ha...                   [Adventure, Fantasy, Action]  [ocean, drug abuse, exotic island, east india ...     [Johnny Depp, Orlando Bloom, Keira Knightley]     [Gore Verbinski]\n",
              "2    206647                                   Spectre  A cryptic message from Bond’s past sends him o...                     [Action, Adventure, Crime]  [spy, based on novel, secret agent, sequel, mi...      [Daniel Craig, Christoph Waltz, Léa Seydoux]         [Sam Mendes]\n",
              "3     49026                     The Dark Knight Rises  Following the death of District Attorney Harve...               [Action, Crime, Drama, Thriller]  [dc comics, crime fighter, terrorist, secret i...      [Christian Bale, Michael Caine, Gary Oldman]  [Christopher Nolan]\n",
              "4     49529                               John Carter  John Carter is a war-weary, former military ca...           [Action, Adventure, Science Fiction]  [based on novel, mars, medallion, space travel...    [Taylor Kitsch, Lynn Collins, Samantha Morton]     [Andrew Stanton]"
            ],
            "text/html": [
              "\n",
              "  <div id=\"df-f4eda531-8277-4aad-8d77-5998bbe5fcb6\">\n",
              "    <div class=\"colab-df-container\">\n",
              "      <div>\n",
              "<style scoped>\n",
              "    .dataframe tbody tr th:only-of-type {\n",
              "        vertical-align: middle;\n",
              "    }\n",
              "\n",
              "    .dataframe tbody tr th {\n",
              "        vertical-align: top;\n",
              "    }\n",
              "\n",
              "    .dataframe thead th {\n",
              "        text-align: right;\n",
              "    }\n",
              "</style>\n",
              "<table border=\"1\" class=\"dataframe\">\n",
              "  <thead>\n",
              "    <tr style=\"text-align: right;\">\n",
              "      <th></th>\n",
              "      <th>movie_id</th>\n",
              "      <th>title</th>\n",
              "      <th>overview</th>\n",
              "      <th>genres</th>\n",
              "      <th>keywords</th>\n",
              "      <th>cast</th>\n",
              "      <th>crew</th>\n",
              "    </tr>\n",
              "  </thead>\n",
              "  <tbody>\n",
              "    <tr>\n",
              "      <th>0</th>\n",
              "      <td>19995</td>\n",
              "      <td>Avatar</td>\n",
              "      <td>In the 22nd century, a paraplegic Marine is di...</td>\n",
              "      <td>[Action, Adventure, Fantasy, Science Fiction]</td>\n",
              "      <td>[culture clash, future, space war, space colon...</td>\n",
              "      <td>[Sam Worthington, Zoe Saldana, Sigourney Weaver]</td>\n",
              "      <td>[James Cameron]</td>\n",
              "    </tr>\n",
              "    <tr>\n",
              "      <th>1</th>\n",
              "      <td>285</td>\n",
              "      <td>Pirates of the Caribbean: At World's End</td>\n",
              "      <td>Captain Barbossa, long believed to be dead, ha...</td>\n",
              "      <td>[Adventure, Fantasy, Action]</td>\n",
              "      <td>[ocean, drug abuse, exotic island, east india ...</td>\n",
              "      <td>[Johnny Depp, Orlando Bloom, Keira Knightley]</td>\n",
              "      <td>[Gore Verbinski]</td>\n",
              "    </tr>\n",
              "    <tr>\n",
              "      <th>2</th>\n",
              "      <td>206647</td>\n",
              "      <td>Spectre</td>\n",
              "      <td>A cryptic message from Bond’s past sends him o...</td>\n",
              "      <td>[Action, Adventure, Crime]</td>\n",
              "      <td>[spy, based on novel, secret agent, sequel, mi...</td>\n",
              "      <td>[Daniel Craig, Christoph Waltz, Léa Seydoux]</td>\n",
              "      <td>[Sam Mendes]</td>\n",
              "    </tr>\n",
              "    <tr>\n",
              "      <th>3</th>\n",
              "      <td>49026</td>\n",
              "      <td>The Dark Knight Rises</td>\n",
              "      <td>Following the death of District Attorney Harve...</td>\n",
              "      <td>[Action, Crime, Drama, Thriller]</td>\n",
              "      <td>[dc comics, crime fighter, terrorist, secret i...</td>\n",
              "      <td>[Christian Bale, Michael Caine, Gary Oldman]</td>\n",
              "      <td>[Christopher Nolan]</td>\n",
              "    </tr>\n",
              "    <tr>\n",
              "      <th>4</th>\n",
              "      <td>49529</td>\n",
              "      <td>John Carter</td>\n",
              "      <td>John Carter is a war-weary, former military ca...</td>\n",
              "      <td>[Action, Adventure, Science Fiction]</td>\n",
              "      <td>[based on novel, mars, medallion, space travel...</td>\n",
              "      <td>[Taylor Kitsch, Lynn Collins, Samantha Morton]</td>\n",
              "      <td>[Andrew Stanton]</td>\n",
              "    </tr>\n",
              "  </tbody>\n",
              "</table>\n",
              "</div>\n",
              "      <button class=\"colab-df-convert\" onclick=\"convertToInteractive('df-f4eda531-8277-4aad-8d77-5998bbe5fcb6')\"\n",
              "              title=\"Convert this dataframe to an interactive table.\"\n",
              "              style=\"display:none;\">\n",
              "        \n",
              "  <svg xmlns=\"http://www.w3.org/2000/svg\" height=\"24px\"viewBox=\"0 0 24 24\"\n",
              "       width=\"24px\">\n",
              "    <path d=\"M0 0h24v24H0V0z\" fill=\"none\"/>\n",
              "    <path d=\"M18.56 5.44l.94 2.06.94-2.06 2.06-.94-2.06-.94-.94-2.06-.94 2.06-2.06.94zm-11 1L8.5 8.5l.94-2.06 2.06-.94-2.06-.94L8.5 2.5l-.94 2.06-2.06.94zm10 10l.94 2.06.94-2.06 2.06-.94-2.06-.94-.94-2.06-.94 2.06-2.06.94z\"/><path d=\"M17.41 7.96l-1.37-1.37c-.4-.4-.92-.59-1.43-.59-.52 0-1.04.2-1.43.59L10.3 9.45l-7.72 7.72c-.78.78-.78 2.05 0 2.83L4 21.41c.39.39.9.59 1.41.59.51 0 1.02-.2 1.41-.59l7.78-7.78 2.81-2.81c.8-.78.8-2.07 0-2.86zM5.41 20L4 18.59l7.72-7.72 1.47 1.35L5.41 20z\"/>\n",
              "  </svg>\n",
              "      </button>\n",
              "      \n",
              "  <style>\n",
              "    .colab-df-container {\n",
              "      display:flex;\n",
              "      flex-wrap:wrap;\n",
              "      gap: 12px;\n",
              "    }\n",
              "\n",
              "    .colab-df-convert {\n",
              "      background-color: #E8F0FE;\n",
              "      border: none;\n",
              "      border-radius: 50%;\n",
              "      cursor: pointer;\n",
              "      display: none;\n",
              "      fill: #1967D2;\n",
              "      height: 32px;\n",
              "      padding: 0 0 0 0;\n",
              "      width: 32px;\n",
              "    }\n",
              "\n",
              "    .colab-df-convert:hover {\n",
              "      background-color: #E2EBFA;\n",
              "      box-shadow: 0px 1px 2px rgba(60, 64, 67, 0.3), 0px 1px 3px 1px rgba(60, 64, 67, 0.15);\n",
              "      fill: #174EA6;\n",
              "    }\n",
              "\n",
              "    [theme=dark] .colab-df-convert {\n",
              "      background-color: #3B4455;\n",
              "      fill: #D2E3FC;\n",
              "    }\n",
              "\n",
              "    [theme=dark] .colab-df-convert:hover {\n",
              "      background-color: #434B5C;\n",
              "      box-shadow: 0px 1px 3px 1px rgba(0, 0, 0, 0.15);\n",
              "      filter: drop-shadow(0px 1px 2px rgba(0, 0, 0, 0.3));\n",
              "      fill: #FFFFFF;\n",
              "    }\n",
              "  </style>\n",
              "\n",
              "      <script>\n",
              "        const buttonEl =\n",
              "          document.querySelector('#df-f4eda531-8277-4aad-8d77-5998bbe5fcb6 button.colab-df-convert');\n",
              "        buttonEl.style.display =\n",
              "          google.colab.kernel.accessAllowed ? 'block' : 'none';\n",
              "\n",
              "        async function convertToInteractive(key) {\n",
              "          const element = document.querySelector('#df-f4eda531-8277-4aad-8d77-5998bbe5fcb6');\n",
              "          const dataTable =\n",
              "            await google.colab.kernel.invokeFunction('convertToInteractive',\n",
              "                                                     [key], {});\n",
              "          if (!dataTable) return;\n",
              "\n",
              "          const docLinkHtml = 'Like what you see? Visit the ' +\n",
              "            '<a target=\"_blank\" href=https://colab.research.google.com/notebooks/data_table.ipynb>data table notebook</a>'\n",
              "            + ' to learn more about interactive tables.';\n",
              "          element.innerHTML = '';\n",
              "          dataTable['output_type'] = 'display_data';\n",
              "          await google.colab.output.renderOutput(dataTable, element);\n",
              "          const docLink = document.createElement('div');\n",
              "          docLink.innerHTML = docLinkHtml;\n",
              "          element.appendChild(docLink);\n",
              "        }\n",
              "      </script>\n",
              "    </div>\n",
              "  </div>\n",
              "  "
            ]
          },
          "metadata": {},
          "execution_count": 93
        }
      ]
    },
    {
      "cell_type": "code",
      "source": [
        "def collapse(L):\n",
        "    L1 = []\n",
        "    for i in L:\n",
        "        L1.append(i.replace(\" \",\"\"))\n",
        "    return L1\n",
        "\n",
        "movies['cast'] = movies['cast'].apply(collapse)\n",
        "movies['crew'] = movies['crew'].apply(collapse)\n",
        "movies['genres'] = movies['genres'].apply(collapse)\n",
        "movies['keywords'] = movies['keywords'].apply(collapse)"
      ],
      "metadata": {
        "id": "XV7l5D4qQozV"
      },
      "execution_count": 94,
      "outputs": []
    },
    {
      "cell_type": "code",
      "source": [
        "movies['overview'] = movies['overview'].apply(lambda x:x.split())"
      ],
      "metadata": {
        "id": "4W7wxmlpQo1e"
      },
      "execution_count": 95,
      "outputs": []
    },
    {
      "cell_type": "code",
      "source": [
        "movies['tags'] = movies['overview'] + movies['genres'] + movies['keywords'] + movies['cast'] + movies['crew']"
      ],
      "metadata": {
        "id": "LXIVBj3AQo3_"
      },
      "execution_count": 96,
      "outputs": []
    },
    {
      "cell_type": "markdown",
      "source": [
        "Menggabungkan kolom yang akan kita jadikan sebagai tags untuk nantinya digunakan sebagai tingkat kemiripan"
      ],
      "metadata": {
        "id": "eZWPXFtube7N"
      }
    },
    {
      "cell_type": "code",
      "source": [
        "new = movies.drop(columns=['overview','genres','keywords','cast','crew'])\n",
        "new.head(5)"
      ],
      "metadata": {
        "colab": {
          "base_uri": "https://localhost:8080/",
          "height": 206
        },
        "id": "L1SfXdJyRiRI",
        "outputId": "20d83869-f563-43c6-a23c-fb7dfd0cbf22"
      },
      "execution_count": 97,
      "outputs": [
        {
          "output_type": "execute_result",
          "data": {
            "text/plain": [
              "   movie_id                                     title                                               tags\n",
              "0     19995                                    Avatar  [In, the, 22nd, century,, a, paraplegic, Marin...\n",
              "1       285  Pirates of the Caribbean: At World's End  [Captain, Barbossa,, long, believed, to, be, d...\n",
              "2    206647                                   Spectre  [A, cryptic, message, from, Bond’s, past, send...\n",
              "3     49026                     The Dark Knight Rises  [Following, the, death, of, District, Attorney...\n",
              "4     49529                               John Carter  [John, Carter, is, a, war-weary,, former, mili..."
            ],
            "text/html": [
              "\n",
              "  <div id=\"df-c58b1897-ded4-40c1-b3be-d2693bc0a835\">\n",
              "    <div class=\"colab-df-container\">\n",
              "      <div>\n",
              "<style scoped>\n",
              "    .dataframe tbody tr th:only-of-type {\n",
              "        vertical-align: middle;\n",
              "    }\n",
              "\n",
              "    .dataframe tbody tr th {\n",
              "        vertical-align: top;\n",
              "    }\n",
              "\n",
              "    .dataframe thead th {\n",
              "        text-align: right;\n",
              "    }\n",
              "</style>\n",
              "<table border=\"1\" class=\"dataframe\">\n",
              "  <thead>\n",
              "    <tr style=\"text-align: right;\">\n",
              "      <th></th>\n",
              "      <th>movie_id</th>\n",
              "      <th>title</th>\n",
              "      <th>tags</th>\n",
              "    </tr>\n",
              "  </thead>\n",
              "  <tbody>\n",
              "    <tr>\n",
              "      <th>0</th>\n",
              "      <td>19995</td>\n",
              "      <td>Avatar</td>\n",
              "      <td>[In, the, 22nd, century,, a, paraplegic, Marin...</td>\n",
              "    </tr>\n",
              "    <tr>\n",
              "      <th>1</th>\n",
              "      <td>285</td>\n",
              "      <td>Pirates of the Caribbean: At World's End</td>\n",
              "      <td>[Captain, Barbossa,, long, believed, to, be, d...</td>\n",
              "    </tr>\n",
              "    <tr>\n",
              "      <th>2</th>\n",
              "      <td>206647</td>\n",
              "      <td>Spectre</td>\n",
              "      <td>[A, cryptic, message, from, Bond’s, past, send...</td>\n",
              "    </tr>\n",
              "    <tr>\n",
              "      <th>3</th>\n",
              "      <td>49026</td>\n",
              "      <td>The Dark Knight Rises</td>\n",
              "      <td>[Following, the, death, of, District, Attorney...</td>\n",
              "    </tr>\n",
              "    <tr>\n",
              "      <th>4</th>\n",
              "      <td>49529</td>\n",
              "      <td>John Carter</td>\n",
              "      <td>[John, Carter, is, a, war-weary,, former, mili...</td>\n",
              "    </tr>\n",
              "  </tbody>\n",
              "</table>\n",
              "</div>\n",
              "      <button class=\"colab-df-convert\" onclick=\"convertToInteractive('df-c58b1897-ded4-40c1-b3be-d2693bc0a835')\"\n",
              "              title=\"Convert this dataframe to an interactive table.\"\n",
              "              style=\"display:none;\">\n",
              "        \n",
              "  <svg xmlns=\"http://www.w3.org/2000/svg\" height=\"24px\"viewBox=\"0 0 24 24\"\n",
              "       width=\"24px\">\n",
              "    <path d=\"M0 0h24v24H0V0z\" fill=\"none\"/>\n",
              "    <path d=\"M18.56 5.44l.94 2.06.94-2.06 2.06-.94-2.06-.94-.94-2.06-.94 2.06-2.06.94zm-11 1L8.5 8.5l.94-2.06 2.06-.94-2.06-.94L8.5 2.5l-.94 2.06-2.06.94zm10 10l.94 2.06.94-2.06 2.06-.94-2.06-.94-.94-2.06-.94 2.06-2.06.94z\"/><path d=\"M17.41 7.96l-1.37-1.37c-.4-.4-.92-.59-1.43-.59-.52 0-1.04.2-1.43.59L10.3 9.45l-7.72 7.72c-.78.78-.78 2.05 0 2.83L4 21.41c.39.39.9.59 1.41.59.51 0 1.02-.2 1.41-.59l7.78-7.78 2.81-2.81c.8-.78.8-2.07 0-2.86zM5.41 20L4 18.59l7.72-7.72 1.47 1.35L5.41 20z\"/>\n",
              "  </svg>\n",
              "      </button>\n",
              "      \n",
              "  <style>\n",
              "    .colab-df-container {\n",
              "      display:flex;\n",
              "      flex-wrap:wrap;\n",
              "      gap: 12px;\n",
              "    }\n",
              "\n",
              "    .colab-df-convert {\n",
              "      background-color: #E8F0FE;\n",
              "      border: none;\n",
              "      border-radius: 50%;\n",
              "      cursor: pointer;\n",
              "      display: none;\n",
              "      fill: #1967D2;\n",
              "      height: 32px;\n",
              "      padding: 0 0 0 0;\n",
              "      width: 32px;\n",
              "    }\n",
              "\n",
              "    .colab-df-convert:hover {\n",
              "      background-color: #E2EBFA;\n",
              "      box-shadow: 0px 1px 2px rgba(60, 64, 67, 0.3), 0px 1px 3px 1px rgba(60, 64, 67, 0.15);\n",
              "      fill: #174EA6;\n",
              "    }\n",
              "\n",
              "    [theme=dark] .colab-df-convert {\n",
              "      background-color: #3B4455;\n",
              "      fill: #D2E3FC;\n",
              "    }\n",
              "\n",
              "    [theme=dark] .colab-df-convert:hover {\n",
              "      background-color: #434B5C;\n",
              "      box-shadow: 0px 1px 3px 1px rgba(0, 0, 0, 0.15);\n",
              "      filter: drop-shadow(0px 1px 2px rgba(0, 0, 0, 0.3));\n",
              "      fill: #FFFFFF;\n",
              "    }\n",
              "  </style>\n",
              "\n",
              "      <script>\n",
              "        const buttonEl =\n",
              "          document.querySelector('#df-c58b1897-ded4-40c1-b3be-d2693bc0a835 button.colab-df-convert');\n",
              "        buttonEl.style.display =\n",
              "          google.colab.kernel.accessAllowed ? 'block' : 'none';\n",
              "\n",
              "        async function convertToInteractive(key) {\n",
              "          const element = document.querySelector('#df-c58b1897-ded4-40c1-b3be-d2693bc0a835');\n",
              "          const dataTable =\n",
              "            await google.colab.kernel.invokeFunction('convertToInteractive',\n",
              "                                                     [key], {});\n",
              "          if (!dataTable) return;\n",
              "\n",
              "          const docLinkHtml = 'Like what you see? Visit the ' +\n",
              "            '<a target=\"_blank\" href=https://colab.research.google.com/notebooks/data_table.ipynb>data table notebook</a>'\n",
              "            + ' to learn more about interactive tables.';\n",
              "          element.innerHTML = '';\n",
              "          dataTable['output_type'] = 'display_data';\n",
              "          await google.colab.output.renderOutput(dataTable, element);\n",
              "          const docLink = document.createElement('div');\n",
              "          docLink.innerHTML = docLinkHtml;\n",
              "          element.appendChild(docLink);\n",
              "        }\n",
              "      </script>\n",
              "    </div>\n",
              "  </div>\n",
              "  "
            ]
          },
          "metadata": {},
          "execution_count": 97
        }
      ]
    },
    {
      "cell_type": "code",
      "source": [
        "new['tags'] = new['tags'].apply(lambda x: \" \".join(x))\n",
        "new.head()"
      ],
      "metadata": {
        "colab": {
          "base_uri": "https://localhost:8080/",
          "height": 206
        },
        "id": "CbRxNke4RidP",
        "outputId": "ae4e8b7d-de2b-4c5e-a45d-fc6d41b437ef"
      },
      "execution_count": 98,
      "outputs": [
        {
          "output_type": "execute_result",
          "data": {
            "text/plain": [
              "   movie_id                                     title                                               tags\n",
              "0     19995                                    Avatar  In the 22nd century, a paraplegic Marine is di...\n",
              "1       285  Pirates of the Caribbean: At World's End  Captain Barbossa, long believed to be dead, ha...\n",
              "2    206647                                   Spectre  A cryptic message from Bond’s past sends him o...\n",
              "3     49026                     The Dark Knight Rises  Following the death of District Attorney Harve...\n",
              "4     49529                               John Carter  John Carter is a war-weary, former military ca..."
            ],
            "text/html": [
              "\n",
              "  <div id=\"df-8da9ec6b-28ec-400e-a84c-dd16ed5eabb4\">\n",
              "    <div class=\"colab-df-container\">\n",
              "      <div>\n",
              "<style scoped>\n",
              "    .dataframe tbody tr th:only-of-type {\n",
              "        vertical-align: middle;\n",
              "    }\n",
              "\n",
              "    .dataframe tbody tr th {\n",
              "        vertical-align: top;\n",
              "    }\n",
              "\n",
              "    .dataframe thead th {\n",
              "        text-align: right;\n",
              "    }\n",
              "</style>\n",
              "<table border=\"1\" class=\"dataframe\">\n",
              "  <thead>\n",
              "    <tr style=\"text-align: right;\">\n",
              "      <th></th>\n",
              "      <th>movie_id</th>\n",
              "      <th>title</th>\n",
              "      <th>tags</th>\n",
              "    </tr>\n",
              "  </thead>\n",
              "  <tbody>\n",
              "    <tr>\n",
              "      <th>0</th>\n",
              "      <td>19995</td>\n",
              "      <td>Avatar</td>\n",
              "      <td>In the 22nd century, a paraplegic Marine is di...</td>\n",
              "    </tr>\n",
              "    <tr>\n",
              "      <th>1</th>\n",
              "      <td>285</td>\n",
              "      <td>Pirates of the Caribbean: At World's End</td>\n",
              "      <td>Captain Barbossa, long believed to be dead, ha...</td>\n",
              "    </tr>\n",
              "    <tr>\n",
              "      <th>2</th>\n",
              "      <td>206647</td>\n",
              "      <td>Spectre</td>\n",
              "      <td>A cryptic message from Bond’s past sends him o...</td>\n",
              "    </tr>\n",
              "    <tr>\n",
              "      <th>3</th>\n",
              "      <td>49026</td>\n",
              "      <td>The Dark Knight Rises</td>\n",
              "      <td>Following the death of District Attorney Harve...</td>\n",
              "    </tr>\n",
              "    <tr>\n",
              "      <th>4</th>\n",
              "      <td>49529</td>\n",
              "      <td>John Carter</td>\n",
              "      <td>John Carter is a war-weary, former military ca...</td>\n",
              "    </tr>\n",
              "  </tbody>\n",
              "</table>\n",
              "</div>\n",
              "      <button class=\"colab-df-convert\" onclick=\"convertToInteractive('df-8da9ec6b-28ec-400e-a84c-dd16ed5eabb4')\"\n",
              "              title=\"Convert this dataframe to an interactive table.\"\n",
              "              style=\"display:none;\">\n",
              "        \n",
              "  <svg xmlns=\"http://www.w3.org/2000/svg\" height=\"24px\"viewBox=\"0 0 24 24\"\n",
              "       width=\"24px\">\n",
              "    <path d=\"M0 0h24v24H0V0z\" fill=\"none\"/>\n",
              "    <path d=\"M18.56 5.44l.94 2.06.94-2.06 2.06-.94-2.06-.94-.94-2.06-.94 2.06-2.06.94zm-11 1L8.5 8.5l.94-2.06 2.06-.94-2.06-.94L8.5 2.5l-.94 2.06-2.06.94zm10 10l.94 2.06.94-2.06 2.06-.94-2.06-.94-.94-2.06-.94 2.06-2.06.94z\"/><path d=\"M17.41 7.96l-1.37-1.37c-.4-.4-.92-.59-1.43-.59-.52 0-1.04.2-1.43.59L10.3 9.45l-7.72 7.72c-.78.78-.78 2.05 0 2.83L4 21.41c.39.39.9.59 1.41.59.51 0 1.02-.2 1.41-.59l7.78-7.78 2.81-2.81c.8-.78.8-2.07 0-2.86zM5.41 20L4 18.59l7.72-7.72 1.47 1.35L5.41 20z\"/>\n",
              "  </svg>\n",
              "      </button>\n",
              "      \n",
              "  <style>\n",
              "    .colab-df-container {\n",
              "      display:flex;\n",
              "      flex-wrap:wrap;\n",
              "      gap: 12px;\n",
              "    }\n",
              "\n",
              "    .colab-df-convert {\n",
              "      background-color: #E8F0FE;\n",
              "      border: none;\n",
              "      border-radius: 50%;\n",
              "      cursor: pointer;\n",
              "      display: none;\n",
              "      fill: #1967D2;\n",
              "      height: 32px;\n",
              "      padding: 0 0 0 0;\n",
              "      width: 32px;\n",
              "    }\n",
              "\n",
              "    .colab-df-convert:hover {\n",
              "      background-color: #E2EBFA;\n",
              "      box-shadow: 0px 1px 2px rgba(60, 64, 67, 0.3), 0px 1px 3px 1px rgba(60, 64, 67, 0.15);\n",
              "      fill: #174EA6;\n",
              "    }\n",
              "\n",
              "    [theme=dark] .colab-df-convert {\n",
              "      background-color: #3B4455;\n",
              "      fill: #D2E3FC;\n",
              "    }\n",
              "\n",
              "    [theme=dark] .colab-df-convert:hover {\n",
              "      background-color: #434B5C;\n",
              "      box-shadow: 0px 1px 3px 1px rgba(0, 0, 0, 0.15);\n",
              "      filter: drop-shadow(0px 1px 2px rgba(0, 0, 0, 0.3));\n",
              "      fill: #FFFFFF;\n",
              "    }\n",
              "  </style>\n",
              "\n",
              "      <script>\n",
              "        const buttonEl =\n",
              "          document.querySelector('#df-8da9ec6b-28ec-400e-a84c-dd16ed5eabb4 button.colab-df-convert');\n",
              "        buttonEl.style.display =\n",
              "          google.colab.kernel.accessAllowed ? 'block' : 'none';\n",
              "\n",
              "        async function convertToInteractive(key) {\n",
              "          const element = document.querySelector('#df-8da9ec6b-28ec-400e-a84c-dd16ed5eabb4');\n",
              "          const dataTable =\n",
              "            await google.colab.kernel.invokeFunction('convertToInteractive',\n",
              "                                                     [key], {});\n",
              "          if (!dataTable) return;\n",
              "\n",
              "          const docLinkHtml = 'Like what you see? Visit the ' +\n",
              "            '<a target=\"_blank\" href=https://colab.research.google.com/notebooks/data_table.ipynb>data table notebook</a>'\n",
              "            + ' to learn more about interactive tables.';\n",
              "          element.innerHTML = '';\n",
              "          dataTable['output_type'] = 'display_data';\n",
              "          await google.colab.output.renderOutput(dataTable, element);\n",
              "          const docLink = document.createElement('div');\n",
              "          docLink.innerHTML = docLinkHtml;\n",
              "          element.appendChild(docLink);\n",
              "        }\n",
              "      </script>\n",
              "    </div>\n",
              "  </div>\n",
              "  "
            ]
          },
          "metadata": {},
          "execution_count": 98
        }
      ]
    },
    {
      "cell_type": "markdown",
      "source": [
        "Melakukan konversi text pada tag ke dalam sebuah token matrix"
      ],
      "metadata": {
        "id": "oppLi0CWbr_U"
      }
    },
    {
      "cell_type": "code",
      "source": [
        "CV = CountVectorizer(max_features=5000,stop_words='english')"
      ],
      "metadata": {
        "id": "9lKShMHWRv0M"
      },
      "execution_count": 99,
      "outputs": []
    },
    {
      "cell_type": "code",
      "source": [
        "vector = CV.fit_transform(new['tags']).toarray()"
      ],
      "metadata": {
        "id": "ieZZmpwdRv3F"
      },
      "execution_count": 100,
      "outputs": []
    },
    {
      "cell_type": "code",
      "source": [
        "vector.shape"
      ],
      "metadata": {
        "colab": {
          "base_uri": "https://localhost:8080/"
        },
        "id": "agvClbJPRv5B",
        "outputId": "5e7182d9-cea8-4200-f841-6f6d7a4fa41d"
      },
      "execution_count": 101,
      "outputs": [
        {
          "output_type": "execute_result",
          "data": {
            "text/plain": [
              "(4806, 5000)"
            ]
          },
          "metadata": {},
          "execution_count": 101
        }
      ]
    },
    {
      "cell_type": "code",
      "source": [
        "similarity = cosine_similarity(vector)"
      ],
      "metadata": {
        "id": "bHwVHrg0Rv7Q"
      },
      "execution_count": 102,
      "outputs": []
    },
    {
      "cell_type": "code",
      "source": [
        "similarity"
      ],
      "metadata": {
        "colab": {
          "base_uri": "https://localhost:8080/"
        },
        "id": "o-3gkiuXRv9m",
        "outputId": "d12483b7-f1d9-4638-c612-7e7aaa69a0df"
      },
      "execution_count": 103,
      "outputs": [
        {
          "output_type": "execute_result",
          "data": {
            "text/plain": [
              "array([[1.        , 0.08964215, 0.06071767, ..., 0.02519763, 0.0277885 ,\n",
              "        0.        ],\n",
              "       [0.08964215, 1.        , 0.06350006, ..., 0.02635231, 0.        ,\n",
              "        0.        ],\n",
              "       [0.06071767, 0.06350006, 1.        , ..., 0.02677398, 0.        ,\n",
              "        0.        ],\n",
              "       ...,\n",
              "       [0.02519763, 0.02635231, 0.02677398, ..., 1.        , 0.07352146,\n",
              "        0.04774099],\n",
              "       [0.0277885 , 0.        , 0.        , ..., 0.07352146, 1.        ,\n",
              "        0.05264981],\n",
              "       [0.        , 0.        , 0.        , ..., 0.04774099, 0.05264981,\n",
              "        1.        ]])"
            ]
          },
          "metadata": {},
          "execution_count": 103
        }
      ]
    },
    {
      "cell_type": "markdown",
      "source": [
        "Define fungsi recommend yang akan digunakan nanti untuk merekomendasi film"
      ],
      "metadata": {
        "id": "0WzJkXobcV3x"
      }
    },
    {
      "cell_type": "code",
      "source": [
        "def recommend(movie):\n",
        "    index = new[new['title'] == movie].index[0]\n",
        "    distances = sorted(list(enumerate(similarity[index])),reverse=True,key = lambda x: x[1])\n",
        "    for i in distances[1:10]:\n",
        "        print(new.iloc[i[0]].title)"
      ],
      "metadata": {
        "id": "lkjHpeI3RwB7"
      },
      "execution_count": 104,
      "outputs": []
    },
    {
      "cell_type": "code",
      "source": [
        "new['title'].head(2)"
      ],
      "metadata": {
        "colab": {
          "base_uri": "https://localhost:8080/"
        },
        "id": "gd3ZiyCUWBS3",
        "outputId": "53a3dccc-fe5b-4db5-d4a2-0164c5348191"
      },
      "execution_count": 105,
      "outputs": [
        {
          "output_type": "execute_result",
          "data": {
            "text/plain": [
              "0                                      Avatar\n",
              "1    Pirates of the Caribbean: At World's End\n",
              "Name: title, dtype: object"
            ]
          },
          "metadata": {},
          "execution_count": 105
        }
      ]
    },
    {
      "cell_type": "markdown",
      "source": [
        "Melakukan pengetesan rekomendasi pada film yang mirip dengan Pirates of the Caribbean: At World's End"
      ],
      "metadata": {
        "id": "obSZ85cPcIVW"
      }
    },
    {
      "cell_type": "code",
      "source": [
        "recommend(\"Pirates of the Caribbean: At World's End\")"
      ],
      "metadata": {
        "colab": {
          "base_uri": "https://localhost:8080/"
        },
        "id": "Zc0pvjwzRwEA",
        "outputId": "49b8f2cd-88b5-429e-c7b2-8f1d20a76b4b"
      },
      "execution_count": 106,
      "outputs": [
        {
          "output_type": "stream",
          "name": "stdout",
          "text": [
            "Pirates of the Caribbean: Dead Man's Chest\n",
            "Pirates of the Caribbean: The Curse of the Black Pearl\n",
            "Pirates of the Caribbean: On Stranger Tides\n",
            "20,000 Leagues Under the Sea\n",
            "Puss in Boots\n",
            "Life of Pi\n",
            "Waterworld\n",
            "The Pirates! In an Adventure with Scientists!\n",
            "The Life Aquatic with Steve Zissou\n"
          ]
        }
      ]
    }
  ]
}